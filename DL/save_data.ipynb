{
 "cells": [
  {
   "cell_type": "code",
   "execution_count": 1,
   "id": "48fe9574",
   "metadata": {},
   "outputs": [],
   "source": [
    "import pandas as pd\n",
    "import numpy as np\n",
    "import matplotlib as mp\n",
    "import seaborn as sb\n",
    "import matplotlib.pyplot as plt"
   ]
  },
  {
   "cell_type": "code",
   "execution_count": null,
   "id": "0a7ac239",
   "metadata": {},
   "outputs": [],
   "source": [
    "path1 = "
   ]
  },
  {
   "cell_type": "code",
   "execution_count": 13,
   "id": "03f60eee",
   "metadata": {},
   "outputs": [],
   "source": [
    "nums1 = ['ㄱ','ㄴ','ㄷ','ㄹ','ㅁ','ㅂ','ㅅ','ㅇ','ㅈ','ㅊ','ㅋ','ㅌ','ㅍ','ㅎ']\n",
    "nums2=['ㅏ','ㅑ','ㅓ','ㅕ','ㅗ','ㅛ','ㅜ','ㅠ','ㅡ','ㅣ','ㅐ','ㅒ','ㅔ','ㅖ','ㅢ','ㅟ']\n",
    "finaldata = pd.DataFrame(columns=(['aX', 'aY', 'aZ', 'gX','gY','gZ','index','middle','ring','little','thumb']))\n",
    "j=0\n",
    "for num in nums:\n",
    "    path1 = '../data/모음/yj/%s.csv'%num\n",
    "    path2 = '../data/모음/yj/%s.csv'%num\n",
    "    path3 = '../data/모음/yj/%s.csv'%num\n",
    "    path4 = '../data/모음/yj/%s.csv'%num\n",
    "    dataFrame = pd.concat(map(pd.read_csv, [path1, path2,path3,path4]), ignore_index=True)\n",
    "    dataFrame.columns =['aX', 'aY', 'aZ', 'gX','gY','gZ','little','ring','middle','index','thumb']\n",
    "    dataFrame.to_csv('../data/%s.csv'%num)\n",
    "\n",
    "    \n"
   ]
  },
  {
   "cell_type": "code",
   "execution_count": null,
   "id": "b94d325a",
   "metadata": {},
   "outputs": [],
   "source": []
  }
 ],
 "metadata": {
  "kernelspec": {
   "display_name": "Python 3",
   "language": "python",
   "name": "python3"
  },
  "language_info": {
   "codemirror_mode": {
    "name": "ipython",
    "version": 3
   },
   "file_extension": ".py",
   "mimetype": "text/x-python",
   "name": "python",
   "nbconvert_exporter": "python",
   "pygments_lexer": "ipython3",
   "version": "3.8.8"
  }
 },
 "nbformat": 4,
 "nbformat_minor": 5
}
