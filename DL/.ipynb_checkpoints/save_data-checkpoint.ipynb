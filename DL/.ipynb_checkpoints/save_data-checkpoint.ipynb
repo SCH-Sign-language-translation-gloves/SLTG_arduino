{
 "cells": [
  {
   "cell_type": "code",
   "execution_count": 1,
   "id": "d94c8641",
   "metadata": {},
   "outputs": [],
   "source": [
    "import pandas as pd\n",
    "import numpy as np\n",
    "import matplotlib as mp\n",
    "import seaborn as sb\n",
    "import matplotlib.pyplot as plt"
   ]
  },
  {
   "cell_type": "code",
   "execution_count": null,
   "id": "1ac164ef",
   "metadata": {},
   "outputs": [],
   "source": [
    "path1 = "
   ]
  },
  {
   "cell_type": "code",
   "execution_count": 13,
   "id": "c2d194ac",
   "metadata": {},
   "outputs": [],
   "source": [
    "nums=['ㅏ','ㅑ','ㅓ','ㅕ','ㅗ','ㅛ','ㅜ','ㅠ','ㅡ','ㅣ','ㅐ','ㅒ','ㅔ','ㅖ','ㅢ','ㅟ']\n",
    "finaldata = pd.DataFrame(columns=(['aX', 'aY', 'aZ', 'gX','gY','gZ','index','middle','ring','little','thumb']))\n",
    "j=0\n",
    "for num in nums:\n",
    "    path1 = '../data/모음/yj/%s.csv'%num\n",
    "    path2 = '../data/모음/yj/%s.csv'%num\n",
    "    path3 = '../data/모음/yj/%s.csv'%num\n",
    "    path4 = '../data/모음/yj/%s.csv'%num\n",
    "    dataFrame = pd.concat(map(pd.read_csv, [path1, path2,path3,path4]), ignore_index=True)\n",
    "    dataFrame.columns =['aX', 'aY', 'aZ', 'gX','gY','gZ','little','ring','middle','index','thumb']\n",
    "    dataFrame.to_csv('../data/%s.csv'%num)\n",
    "    #dataFrame.info()\n",
    "    #print(dataFrame)\n",
    "    \n"
   ]
  },
  {
   "cell_type": "code",
   "execution_count": null,
   "id": "89f69517",
   "metadata": {},
   "outputs": [],
   "source": [
    "nums=['ㄱ','ㄴ','ㄷ','ㄹ','ㅁ','ㅂ','ㅅ','ㅇ','ㅈ','ㅊ','ㅋ','ㅌ','ㅍ','ㅎ']\n",
    "finaldata_yj = pd.DataFrame(columns=(['aX', 'aY', 'aZ', 'gX','gY','gZ','index','middle','ring','little','thumb']))\n",
    "j=0\n",
    "for num in nums:\n",
    "    path = '../data/자음/yj/%s.csv'%num\n",
    "    num_yj = pd.read_csv(path, engine='python', encoding='cp949')\n",
    "    num_yj.columns =['aX', 'aY', 'aZ', 'gX','gY','gZ','little','ring','middle','index','thumb']\n",
    "    data_yj = num_yj\n",
    "    \n",
    "    for k in data_yj.columns:     #data.columns[w:] if you have w column of line description \n",
    "        data_yj[k] = data_yj[k].fillna(data_yj[k].median())\n",
    "    data_yj = data_yj.filter(['aX', 'aY', 'aZ', 'gX','gY','gZ','little','ring','middle','index','thumb'])\n",
    "    data_yj.insert(11,'Character',j)\n",
    "    j=j+1\n",
    "    finaldata_yj = pd.concat([finaldata_yj,data_yj[150:]],sort=False,ignore_index = True)\n",
    "    test_yj = data_yj[:149]\n",
    "    test_yj= test_yj.drop(\"Character\", axis = 1)\n",
    "    #print(finaldata_yj)\n",
    "#finaldata.isnull().any()\n",
    "finaldata_yj = finaldata_yj.astype({'Character':int})\n",
    "finaldata_yj"
   ]
  },
  {
   "cell_type": "code",
   "execution_count": null,
   "id": "9953279f",
   "metadata": {},
   "outputs": [],
   "source": [
    "nums=['ㄱ','ㄴ','ㄷ','ㄹ','ㅁ','ㅂ','ㅅ','ㅇ','ㅈ','ㅊ','ㅋ','ㅌ','ㅍ','ㅎ']\n",
    "finaldata_nh = pd.DataFrame(columns=(['aX', 'aY', 'aZ', 'gX','gY','gZ','index','middle','ring','little','thumb']))\n",
    "j=0\n",
    "for num in nums:\n",
    "    path = '../data/자음/nh/%s.csv'%num\n",
    "    num_nh = pd.read_csv(path, engine='python', encoding='cp949')\n",
    "    num_nh.columns =['aX', 'aY', 'aZ', 'gX','gY','gZ','little','ring','middle','index','thumb']\n",
    "    data_nh = num_nh\n",
    "    \n",
    "    for k in data_nh.columns:     #data.columns[w:] if you have w column of line description \n",
    "        data_nh[k] = data_nh[k].fillna(data_nh[k].median())\n",
    "    data_nh = data_nh.filter(['aX', 'aY', 'aZ', 'gX','gY','gZ','little','ring','middle','index','thumb'])\n",
    "    data_nh.insert(11,'Character',j)\n",
    "    j=j+1\n",
    "    \n",
    "    finaldata_nh = pd.concat([finaldata_nh,data_nh[150:]],sort=False,ignore_index = True)\n",
    "    test_nh = data_nh[:149]\n",
    "    test_nh= test_nh.drop(\"Character\", axis = 1)\n",
    "    \n",
    "    #print(finaldata_nh)\n",
    "#finaldata.isnull().any()\n",
    "\n",
    "finaldata_nh = finaldata_nh.astype({'Character':int})\n",
    "finaldata_nh"
   ]
  },
  {
   "cell_type": "code",
   "execution_count": 4,
   "id": "8159b46c",
   "metadata": {},
   "outputs": [
    {
     "ename": "NameError",
     "evalue": "name 'finaldata_nh' is not defined",
     "output_type": "error",
     "traceback": [
      "\u001b[1;31m---------------------------------------------------------------------------\u001b[0m",
      "\u001b[1;31mNameError\u001b[0m                                 Traceback (most recent call last)",
      "\u001b[1;32m<ipython-input-4-bbbcc384ac84>\u001b[0m in \u001b[0;36m<module>\u001b[1;34m\u001b[0m\n\u001b[0;32m     14\u001b[0m     \u001b[0mj\u001b[0m\u001b[1;33m=\u001b[0m\u001b[0mj\u001b[0m\u001b[1;33m+\u001b[0m\u001b[1;36m1\u001b[0m\u001b[1;33m\u001b[0m\u001b[1;33m\u001b[0m\u001b[0m\n\u001b[0;32m     15\u001b[0m \u001b[1;33m\u001b[0m\u001b[0m\n\u001b[1;32m---> 16\u001b[1;33m     \u001b[0mfinaldata_jh\u001b[0m \u001b[1;33m=\u001b[0m \u001b[0mpd\u001b[0m\u001b[1;33m.\u001b[0m\u001b[0mconcat\u001b[0m\u001b[1;33m(\u001b[0m\u001b[1;33m[\u001b[0m\u001b[0mfinaldata_nh\u001b[0m\u001b[1;33m,\u001b[0m\u001b[0mdata_jh\u001b[0m\u001b[1;33m[\u001b[0m\u001b[1;36m150\u001b[0m\u001b[1;33m:\u001b[0m\u001b[1;33m]\u001b[0m\u001b[1;33m]\u001b[0m\u001b[1;33m,\u001b[0m\u001b[0msort\u001b[0m\u001b[1;33m=\u001b[0m\u001b[1;32mFalse\u001b[0m\u001b[1;33m,\u001b[0m\u001b[0mignore_index\u001b[0m \u001b[1;33m=\u001b[0m \u001b[1;32mTrue\u001b[0m\u001b[1;33m)\u001b[0m\u001b[1;33m\u001b[0m\u001b[1;33m\u001b[0m\u001b[0m\n\u001b[0m\u001b[0;32m     17\u001b[0m     \u001b[0mtest_jh\u001b[0m \u001b[1;33m=\u001b[0m \u001b[0mdata_jh\u001b[0m\u001b[1;33m[\u001b[0m\u001b[1;33m:\u001b[0m\u001b[1;36m149\u001b[0m\u001b[1;33m]\u001b[0m\u001b[1;33m\u001b[0m\u001b[1;33m\u001b[0m\u001b[0m\n\u001b[0;32m     18\u001b[0m     \u001b[0mtest_jh\u001b[0m\u001b[1;33m=\u001b[0m \u001b[0mtest_jh\u001b[0m\u001b[1;33m.\u001b[0m\u001b[0mdrop\u001b[0m\u001b[1;33m(\u001b[0m\u001b[1;34m\"Character\"\u001b[0m\u001b[1;33m,\u001b[0m \u001b[0maxis\u001b[0m \u001b[1;33m=\u001b[0m \u001b[1;36m1\u001b[0m\u001b[1;33m)\u001b[0m\u001b[1;33m\u001b[0m\u001b[1;33m\u001b[0m\u001b[0m\n",
      "\u001b[1;31mNameError\u001b[0m: name 'finaldata_nh' is not defined"
     ]
    }
   ],
   "source": [
    "nums=['ㄱ','ㄴ','ㄷ','ㄹ','ㅁ','ㅂ','ㅅ','ㅇ','ㅈ','ㅊ','ㅋ','ㅌ','ㅍ','ㅎ']\n",
    "finaldata_jh = pd.DataFrame(columns=(['aX', 'aY', 'aZ', 'gX','gY','gZ','index','middle','ring','little','thumb']))\n",
    "j=0\n",
    "for num in nums:\n",
    "    path = '../data/자음/jh/%s.csv'%num\n",
    "    num_jh = pd.read_csv(path, engine='python', encoding='cp949')\n",
    "    num_jh.columns =['aX', 'aY', 'aZ', 'gX','gY','gZ','little','ring','middle','index','thumb']\n",
    "    data_jh = num_jh\n",
    "    \n",
    "    for k in data_jh.columns:     #data.columns[w:] if you have w column of line description \n",
    "        data_jh[k] = data_jh[k].fillna(data_jh[k].median())\n",
    "    data_jh = data_jh.filter(['aX', 'aY', 'aZ', 'gX','gY','gZ','little','ring','middle','index','thumb'])\n",
    "    data_jh.insert(11,'Character',j)\n",
    "    j=j+1\n",
    "    \n",
    "    finaldata_jh = pd.concat([finaldata_nh,data_jh[150:]],sort=False,ignore_index = True)\n",
    "    test_jh = data_jh[:149]\n",
    "    test_jh= test_jh.drop(\"Character\", axis = 1)\n",
    "    \n",
    "    #print(finaldata_nh)\n",
    "#finaldata.isnull().any()\n",
    "\n",
    "finaldata_jh = finaldata_jh.astype({'Character':int})\n",
    "finaldata_jh"
   ]
  },
  {
   "cell_type": "code",
   "execution_count": null,
   "id": "731aadcf",
   "metadata": {},
   "outputs": [],
   "source": []
  }
 ],
 "metadata": {
  "kernelspec": {
   "display_name": "Python 3",
   "language": "python",
   "name": "python3"
  },
  "language_info": {
   "codemirror_mode": {
    "name": "ipython",
    "version": 3
   },
   "file_extension": ".py",
   "mimetype": "text/x-python",
   "name": "python",
   "nbconvert_exporter": "python",
   "pygments_lexer": "ipython3",
   "version": "3.8.8"
  }
 },
 "nbformat": 4,
 "nbformat_minor": 5
}
