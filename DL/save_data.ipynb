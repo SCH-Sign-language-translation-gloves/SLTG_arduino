{
 "cells": [
  {
   "cell_type": "code",
   "execution_count": 4,
   "id": "ce607899",
   "metadata": {},
   "outputs": [],
   "source": [
    "import pandas as pd\n",
    "import numpy as np\n",
    "import matplotlib as mp\n",
    "import seaborn as sb\n",
    "import matplotlib.pyplot as plt"
   ]
  },
  {
   "cell_type": "code",
   "execution_count": 21,
   "id": "66000b02",
   "metadata": {},
   "outputs": [
    {
     "name": "stdout",
     "output_type": "stream",
     "text": [
      "         aX    aY    aZ    gX    gY    gZ index middle ring little thumb  \\\n",
      "0      0.58  0.74  0.41  1.77 -2.26 -6.71   310    236  468    413   219   \n",
      "1      0.58  0.74  0.39  2.93  1.77 -8.30   309    236  464    413   220   \n",
      "2      0.53  0.73  0.41 -5.25 -5.68 -4.82   310    235  467    412   223   \n",
      "3      0.57  0.75  0.39  2.44 -6.41 -1.83   312    238  459    412   228   \n",
      "4      0.57  0.76  0.39 -1.59 -3.17 -4.39   309    238  465    416   220   \n",
      "...     ...   ...   ...   ...   ...   ...   ...    ...  ...    ...   ...   \n",
      "60915  0.50  0.81  0.30  3.91 -2.87 -1.71   437    208  282    358   364   \n",
      "60916  0.52  0.80  0.27  0.55 -5.86 -1.53   445    209  282    359   365   \n",
      "60917  0.56  0.82  0.26  0.24 -4.09 -0.49   438    209  281    356   366   \n",
      "60918  0.57  0.82  0.25  0.92 -4.64 -2.38   445    207  283    359   367   \n",
      "60919  0.54  0.78  0.27 -0.67 -3.78 -4.88   444    208  281    361   363   \n",
      "\n",
      "       Character  \n",
      "0            0.0  \n",
      "1            0.0  \n",
      "2            0.0  \n",
      "3            0.0  \n",
      "4            0.0  \n",
      "...          ...  \n",
      "60915       29.0  \n",
      "60916       29.0  \n",
      "60917       29.0  \n",
      "60918       29.0  \n",
      "60919       29.0  \n",
      "\n",
      "[60920 rows x 12 columns]\n"
     ]
    }
   ],
   "source": [
    "nums = ['ㄱ','ㄴ','ㄷ','ㄹ','ㅁ','ㅂ','ㅅ','ㅇ','ㅈ','ㅊ','ㅋ','ㅌ','ㅍ','ㅎ','ㅏ','ㅑ','ㅓ','ㅕ','ㅗ','ㅛ','ㅜ','ㅠ','ㅡ','ㅣ','ㅐ','ㅒ','ㅔ','ㅖ','ㅢ','ㅟ']\n",
    "finaldata = pd.DataFrame(columns=(['aX', 'aY', 'aZ', 'gX','gY','gZ','index','middle','ring','little','thumb']))\n",
    "j=0\n",
    "for num in nums:\n",
    "    path = '../data/%s.csv'%num\n",
    "    num = pd.read_csv(path, engine='python', encoding='cp949')\n",
    "    #num.columns =['aX', 'aY', 'aZ', 'gX','gY','gZ','little','ring','middle','index','thumb']\n",
    "    data= num\n",
    "    data.drop(data.columns[0], axis = 1, inplace= True)\n",
    "    #data.info()\n",
    "    for k in data.columns:     #data.columns[w:] if you have w column of line description \n",
    "        data[k] = data[k].fillna(data[k].median())\n",
    "\n",
    "    #data = data.filter(['little','ring','middle','index','thumb'])\n",
    "    data.insert(11,'Character',j)\n",
    "    j=j+1\n",
    "    finaldata = pd.concat([finaldata, data], sort=False, ignore_index=True)\n",
    "\n",
    "finaldata.to_csv('../data/all_data.csv')\n",
    "   \n",
    "print(finaldata)\n",
    "#print(num)\n",
    "\n",
    "    \n"
   ]
  },
  {
   "cell_type": "code",
   "execution_count": null,
   "id": "8e8ad595",
   "metadata": {},
   "outputs": [],
   "source": []
  }
 ],
 "metadata": {
  "kernelspec": {
   "display_name": "Python 3",
   "language": "python",
   "name": "python3"
  },
  "language_info": {
   "codemirror_mode": {
    "name": "ipython",
    "version": 3
   },
   "file_extension": ".py",
   "mimetype": "text/x-python",
   "name": "python",
   "nbconvert_exporter": "python",
   "pygments_lexer": "ipython3",
   "version": "3.8.8"
  }
 },
 "nbformat": 4,
 "nbformat_minor": 5
}
