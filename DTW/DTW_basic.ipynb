{
 "cells": [
  {
   "cell_type": "markdown",
   "metadata": {},
   "source": [
    "# DTW\n",
    "- Dynamic time wraping(동적 시간 워핑)은 다른 속도, 움직임을 가진 서로 다른 신호의 시간축에 대한 파장의 유사성을 측정하는 알고리즘\n",
    "- 그래픽, 비디오, 오디오 분야에서 자주 사용되며 의료분야에서 보행 유사성, 생체신호 분석 등에 자주 사용되기도 한다. 특히 자동 음성 인식기술 분야에서 가장 두각을 나타내는 알고리즘"
   ]
  },
  {
   "cell_type": "markdown",
   "metadata": {},
   "source": [
    "## DTW의 특징과 개념\n",
    "\n",
    "### 1. 일반적인 시계열 신호의 비교\n",
    "- 일반적으로 시계열 신호간 유사성을 따질 때 유클리드 거리(Euclidean distance)를 이용 (각각 시간별 신호 간 MSE를 이용)\n",
    "\n",
    "#### 장점\n",
    "- 계산이 용이\n",
    "- 연산속도가 뛰어남\n",
    "\n",
    "#### 단점\n",
    "- 신호의 떨림과 움직임이 심해질수록 결과가 어긋나는 현상 발생\n",
    "- 길이가 다른 시계열 분석 불가\n",
    "\n",
    "## 2. DTW를 이용한 시계열 신호 비교\n",
    "- 동일한 시간선상의 데이터 뿐 아니라 주변 요소까지 비교쌍으로 사용하여 정확도를 높히는 방식으로 사진과 같이 최상단 끝- 최하단 끝까지 이동할 때 가장 낮은 합계를 찾아냄\n",
    "-> 따라서 DTW distance 값이 낮을수록 유사도가 높음\n",
    "\n",
    "#### 장점\n",
    "- 서로 다른 길이의 시계열의 유사도 분석이 가능\n",
    "- GPS 데이터 등 다차원 시계열 데이터의 분석 기능\n",
    "\n",
    "#### 단점\n",
    "- 알고리즘 구현이 어렵고 연산량이 많음"
   ]
  },
  {
   "cell_type": "markdown",
   "metadata": {},
   "source": [
    "# DTW in Pyhton"
   ]
  },
  {
   "cell_type": "markdown",
   "metadata": {},
   "source": [
    "## 사용법\n",
    "- pip install dtw-python 으로 설치 후 import dtw 사용"
   ]
  },
  {
   "cell_type": "code",
   "execution_count": 10,
   "metadata": {},
   "outputs": [
    {
     "name": "stdout",
     "output_type": "stream",
     "text": [
      "Total Distance is  34.0\n"
     ]
    },
    {
     "data": {
      "image/png": "[encoded data removed]",
      "text/plain": [
       "<Figure size 432x288 with 1 Axes>"
      ]
     },
     "metadata": {
      "needs_background": "light"
     },
     "output_type": "display_data"
    }
   ],
   "source": [
    "# -*- coding: utf-8 -*-\n",
    "\n",
    "from math import *\n",
    "import numpy as np\n",
    "import sys\n",
    "\n",
    "\n",
    "def DTW(A, B, window=sys.maxsize, d=lambda x, y: abs(x - y)):\n",
    "    # 비용 행렬 초기화\n",
    "    A, B = np.array(A), np.array(B)\n",
    "    M, N = len(A), len(B)\n",
    "    cost = sys.maxsize * np.ones((M, N))\n",
    "\n",
    "    # 첫번째 로우,컬럼 채우기\n",
    "    cost[0, 0] = d(A[0], B[0])\n",
    "    for i in range(1, M):\n",
    "        cost[i, 0] = cost[i - 1, 0] + d(A[i], B[0])\n",
    "\n",
    "    for j in range(1, N):\n",
    "        cost[0, j] = cost[0, j - 1] + d(A[0], B[j])\n",
    "\n",
    "    # 나머지 행렬 채우기\n",
    "    for i in range(1, M):\n",
    "        for j in range(max(1, i - window), min(N, i + window)):\n",
    "            choices = cost[i - 1, j - 1], cost[i, j - 1], cost[i - 1, j]\n",
    "            cost[i, j] = min(choices) + d(A[i], B[j])\n",
    "\n",
    "    # 최적 경로 구하기\n",
    "    n, m = N - 1, M - 1\n",
    "    path = []\n",
    "\n",
    "    while (m, n) != (0, 0):\n",
    "        path.append((m, n))\n",
    "        m, n = min((m - 1, n), (m, n - 1), (m - 1, n - 1), key=lambda x: cost[x[0], x[1]])\n",
    "\n",
    "    path.append((0, 0))\n",
    "    return cost[-1, -1], path\n",
    "\n",
    "\n",
    "def main():\n",
    "    A = np.array([1,2,3,4,2,3])\n",
    "    B = np.array([7,8,5,9,11,9])\n",
    "\n",
    "    cost, path = DTW(A, B, window = 6)\n",
    "    print ('Total Distance is ', cost)\n",
    "\n",
    "    import matplotlib.pyplot as plt\n",
    "    offset = 5\n",
    "    plt.xlim([-1, max(len(A), len(B)) + 1])\n",
    "    plt.plot(A)\n",
    "    plt.plot(B + offset)\n",
    "    for (x1, x2) in path:\n",
    "        plt.plot([x1, x2], [A[x1], B[x2] + offset])\n",
    "    plt.show()\n",
    "\n",
    "if __name__ == '__main__':\n",
    "    main()"
   ]
  }
 ],
 "metadata": {
  "interpreter": {
   "hash": "b3ba2566441a7c06988d0923437866b63cedc61552a5af99d1f4fb67d367b25f"
  },
  "kernelspec": {
   "display_name": "Python 3.8.8 ('base')",
   "language": "python",
   "name": "python3"
  },
  "language_info": {
   "codemirror_mode": {
    "name": "ipython",
    "version": 3
   },
   "file_extension": ".py",
   "mimetype": "text/x-python",
   "name": "python",
   "nbconvert_exporter": "python",
   "pygments_lexer": "ipython3",
   "version": "3.8.8"
  },
  "orig_nbformat": 4
 },
 "nbformat": 4,
 "nbformat_minor": 2
}
