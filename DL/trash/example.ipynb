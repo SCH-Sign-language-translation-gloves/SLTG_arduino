{
 "cells": [
  {
   "cell_type": "code",
   "execution_count": 1,
   "id": "b5c2deb3",
   "metadata": {},
   "outputs": [],
   "source": [
    "import pandas as pd\n",
    "import numpy as np\n",
    "import matplotlib as mp\n",
    "import seaborn as sb\n",
    "\n",
    "# Importing the required packages\n",
    "from sklearn.metrics import confusion_matrix \n",
    "from sklearn.model_selection import train_test_split \n",
    "from sklearn.tree import DecisionTreeClassifier \n",
    "from sklearn.metrics import accuracy_score \n",
    "from sklearn.metrics import classification_report "
   ]
  },
  {
   "cell_type": "code",
   "execution_count": 2,
   "id": "8c673163",
   "metadata": {},
   "outputs": [
    {
     "name": "stdout",
     "output_type": "stream",
     "text": [
      "'가'와 관련된 음절 리스트: ['가' '각' '갂' '갃' '간' '갅' '갆' '갇' '갈' '갉' '갊' '갋' '갌' '갍' '갎' '갏' '감' '갑'\n",
      " '값' '갓' '갔' '강' '갖' '갗' '갘' '같' '갚' '갛']\n",
      "'개'와 관련된 음절 리스트: ['개' '객' '갞' '갟' '갠' '갡' '갢' '갣' '갤' '갥' '갦' '갧' '갨' '갩' '갪' '갫' '갬' '갭'\n",
      " '갮' '갯' '갰' '갱' '갲' '갳' '갴' '갵' '갶' '갷']\n",
      "\n",
      "'ㄱ'와 관련된 마지막 음절 리스트: ['기' '긱' '긲' '긳' '긴' '긵' '긶' '긷' '길' '긹' '긺' '긻' '긼' '긽' '긾' '긿' '김' '깁'\n",
      " '깂' '깃' '깄' '깅' '깆' '깇' '깈' '깉' '깊' '깋']\n",
      "'ㄲ'와 관련된 첫번째 음절 리스트: ['까' '깍' '깎' '깏' '깐' '깑' '깒' '깓' '깔' '깕' '깖' '깗' '깘' '깙' '깚' '깛' '깜' '깝'\n",
      " '깞' '깟' '깠' '깡' '깢' '깣' '깤' '깥' '깦' '깧']\n"
     ]
    }
   ],
   "source": [
    "hangul_syllables = np.array([chr(code) for code in range(44032, 55204)])\n",
    "hangul_syllables = hangul_syllables.reshape(19, 21, 28)\n",
    "\n",
    "print(f\"'가'와 관련된 음절 리스트: {hangul_syllables[0][0]}\")\n",
    "print(f\"'개'와 관련된 음절 리스트: {hangul_syllables[0][1]}\")\n",
    "\n",
    "print()\n",
    "\n",
    "print(f\"'ㄱ'와 관련된 마지막 음절 리스트: {hangul_syllables[0][20]}\")\n",
    "print(f\"'ㄲ'와 관련된 첫번째 음절 리스트: {hangul_syllables[1][0]}\")"
   ]
  },
  {
   "cell_type": "code",
   "execution_count": 3,
   "id": "6075ec71",
   "metadata": {},
   "outputs": [],
   "source": [
    "'''\n",
    "chosung_list = ['ㄱ', 'ㄲ', 'ㄴ', 'ㄷ', 'ㄸ', 'ㄹ', 'ㅁ', 'ㅂ', 'ㅃ', 'ㅅ',\n",
    "                'ㅆ', 'ㅇ', 'ㅈ', 'ㅉ', 'ㅊ', 'ㅋ', 'ㅌ', 'ㅍ', 'ㅎ']\n",
    "'''\n",
    "chosung_list_test = ['ㄱ', 'ㄴ', 'ㄷ',  'ㄹ', 'ㅁ', 'ㅂ',  'ㅅ',\n",
    "                'ㅇ', 'ㅈ',  'ㅊ', 'ㅋ', 'ㅌ', 'ㅍ', 'ㅎ']\n",
    "\n",
    "\n",
    "jungsung_list = ['ㅏ', 'ㅐ', 'ㅑ', 'ㅒ', 'ㅓ', 'ㅔ', 'ㅕ', 'ㅖ', 'ㅗ', 'ㅘ',\n",
    "                 'ㅙ', 'ㅚ', 'ㅛ', 'ㅜ', 'ㅝ', 'ㅞ', 'ㅟ', 'ㅠ', 'ㅡ', 'ㅢ', 'ㅣ']\n",
    "\n",
    "jongsung_list = ['', 'ㄱ', 'ㄲ', 'ㄳ', 'ㄴ', 'ㄵ', 'ㄶ', 'ㄷ', 'ㄹ', 'ㄺ', 'ㄻ', 'ㄼ',\n",
    "                 'ㄽ', 'ㄾ', 'ㄿ', 'ㅀ', 'ㅁ', 'ㅂ', 'ㅄ', 'ㅅ', 'ㅆ', 'ㅇ', 'ㅈ', 'ㅊ',\n",
    "                 'ㅋ', 'ㅌ', 'ㅍ', 'ㅎ']"
   ]
  },
  {
   "cell_type": "code",
   "execution_count": 4,
   "id": "46583ed9",
   "metadata": {},
   "outputs": [
    {
     "name": "stdout",
     "output_type": "stream",
     "text": [
      "48149 박\n",
      "45460 놔\n",
      "48157 밝\n"
     ]
    }
   ],
   "source": [
    "def get_unicode_number(chosung_index, jungsung_index, jongsung_index):\n",
    "    return ((chosung_index * 588) + (jungsung_index * 28) + jongsung_index) + 44032\n",
    "\n",
    "\n",
    "# 박 / ㅂ:7 / ㅏ:0 / ㄱ:1\n",
    "print(get_unicode_number(7, 0, 1), chr(get_unicode_number(7, 0, 1)))\n",
    "\n",
    "# 놔 / ㄴ:2 / ㅘ:9 / '':0\n",
    "print(get_unicode_number(2, 9, 0), chr(get_unicode_number(2, 9, 0)))\n",
    "\n",
    "# 밝 / ㅂ:7 / ㅏ:0 / ㄺ:9\n",
    "print(get_unicode_number(7, 0, 9), chr(get_unicode_number(7, 0, 9)))"
   ]
  },
  {
   "cell_type": "code",
   "execution_count": 5,
   "id": "a734ff82",
   "metadata": {},
   "outputs": [
    {
     "name": "stdout",
     "output_type": "stream",
     "text": [
      "[['f', 'f', 'f'], ['a', 'a', 'a'], ['c', 'c', 'c'], ['e', 'e', 'e'], ['b', 'b', 'b'], ['o', 'o', 'o'], ['o', 'o', 'o'], ['k', 'k', 'k'], ['ㅇ', 'ㅢ', ''], [' ', ' ', ' '], ['ㅊ', 'ㅏ', 'ㅇ'], ['ㅅ', 'ㅣ', ''], ['ㅈ', 'ㅏ', ''], [' ', ' ', ' '], ['ㅁ', 'ㅏ', ''], ['ㅋ', 'ㅡ', ''], [' ', ' ', ' '], ['ㅈ', 'ㅓ', ''], ['ㅋ', 'ㅓ', ''], ['ㅂ', 'ㅓ', ''], ['ㄱ', 'ㅡ', ''], ['ㄴ', 'ㅡ', 'ㄴ'], [' ', ' ', ' '], [' ', ' ', ' '], [' ', ' ', ' '], [' ', ' ', ' '], [' ', ' ', ' '], ['ㄹ', 'ㅏ', 'ㅁ'], ['ㄱ', 'ㅘ', ''], [' ', ' ', ' '], ['ㅅ', 'ㅏ', ''], ['ㄹ', 'ㅏ', 'ㅁ'], ['ㅇ', 'ㅢ', ''], [' ', ' ', ' '], ['ㅇ', 'ㅕ', 'ㄴ'], ['ㄱ', 'ㅕ', 'ㄹ'], ['ㅇ', 'ㅣ', ''], [' ', ' ', ' '], ['ㄱ', 'ㅗ', 'ㄷ'], [' ', ' ', ' '], ['ㅂ', 'ㅣ', ''], ['ㅈ', 'ㅡ', ''], ['ㄴ', 'ㅣ', ''], ['ㅅ', 'ㅡ', ''], [' ', ' ', ' '], ['ㄹ', 'ㅏ', ''], ['ㄱ', 'ㅗ', ''], [' ', ' ', ' '], ['ㅁ', 'ㅏ', 'ㄹ'], ['ㅎ', 'ㅐ', 'ㅆ'], ['ㄷ', 'ㅏ', '']]\n",
      "['f', 'a', 'c', 'e', 'b', 'o', 'o', 'k', 'ㅇ', ' ', 'ㅊ', 'ㅅ', 'ㅈ', ' ', 'ㅁ', 'ㅋ', ' ', 'ㅈ', 'ㅋ', 'ㅂ', 'ㄱ', 'ㄴ', ' ', ' ', ' ', ' ', ' ', 'ㄹ', 'ㄱ', ' ', 'ㅅ', 'ㄹ', 'ㅇ', ' ', 'ㅇ', 'ㄱ', 'ㅇ', ' ', 'ㄱ', ' ', 'ㅂ', 'ㅈ', 'ㄴ', 'ㅅ', ' ', 'ㄹ', 'ㄱ', ' ', 'ㅁ', 'ㅎ', 'ㄷ']\n",
      "['f', 'a', 'c', 'e', 'b', 'o', 'o', 'k', 'ㅢ', ' ', 'ㅏ', 'ㅣ', 'ㅏ', ' ', 'ㅏ', 'ㅡ', ' ', 'ㅓ', 'ㅓ', 'ㅓ', 'ㅡ', 'ㅡ', ' ', ' ', ' ', ' ', ' ', 'ㅏ', 'ㅘ', ' ', 'ㅏ', 'ㅏ', 'ㅢ', ' ', 'ㅕ', 'ㅕ', 'ㅣ', ' ', 'ㅗ', ' ', 'ㅣ', 'ㅡ', 'ㅣ', 'ㅡ', ' ', 'ㅏ', 'ㅗ', ' ', 'ㅏ', 'ㅐ', 'ㅏ']\n",
      "['f', 'a', 'c', 'e', 'b', 'o', 'o', 'k', '', ' ', 'ㅇ', '', '', ' ', '', '', ' ', '', '', '', '', 'ㄴ', ' ', ' ', ' ', ' ', ' ', 'ㅁ', '', ' ', '', 'ㅁ', '', ' ', 'ㄴ', 'ㄹ', '', ' ', 'ㄷ', ' ', '', '', '', '', ' ', '', '', ' ', 'ㄹ', 'ㅆ', '']\n"
     ]
    }
   ],
   "source": [
    "import re\n",
    "\n",
    "class SeparateJaMo:\n",
    "    \"\"\"\n",
    "    한글 자모를 분리하는 클래스\n",
    "\n",
    "    target_text = 자모를 분리할 문자열\n",
    "    blank_str = 공백을 처리할 문자\n",
    "    remove_blank = 공백 제거 여부\n",
    "    remove_special_character = 특수 문자 제거 여부\n",
    "    refine_blank = 두개 이상의 공백 정제 여부\n",
    "    refine_english = 영어 정제 여부\n",
    "    \"\"\"\n",
    "\n",
    "    def __init__(self, original_text, blank_str=\" \",\n",
    "                 remove_blank=False, remove_special_character=False,\n",
    "                 refine_blank=False, refine_english=False):\n",
    "        self.__chosung_list = ['ㄱ', 'ㄲ', 'ㄴ', 'ㄷ', 'ㄸ', 'ㄹ', 'ㅁ', 'ㅂ', 'ㅃ', 'ㅅ',\n",
    "                               'ㅆ', 'ㅇ', 'ㅈ', 'ㅉ', 'ㅊ', 'ㅋ', 'ㅌ', 'ㅍ', 'ㅎ']\n",
    "        self.__jungsung_list = ['ㅏ', 'ㅐ', 'ㅑ', 'ㅒ', 'ㅓ', 'ㅔ', 'ㅕ', 'ㅖ', 'ㅗ', 'ㅘ',\n",
    "                                'ㅙ', 'ㅚ', 'ㅛ', 'ㅜ', 'ㅝ', 'ㅞ', 'ㅟ', 'ㅠ', 'ㅡ', 'ㅢ', 'ㅣ']\n",
    "        self.__jongsung_list = ['', 'ㄱ', 'ㄲ', 'ㄳ', 'ㄴ', 'ㄵ', 'ㄶ', 'ㄷ', 'ㄹ', 'ㄺ', 'ㄻ', 'ㄼ',\n",
    "                                'ㄽ', 'ㄾ', 'ㄿ', 'ㅀ', 'ㅁ', 'ㅂ', 'ㅄ', 'ㅅ', 'ㅆ', 'ㅇ', 'ㅈ', 'ㅊ',\n",
    "                                'ㅋ', 'ㅌ', 'ㅍ', 'ㅎ']\n",
    "        self.__original_text = original_text\n",
    "        self.__blank_str = blank_str\n",
    "        self.__remove_blank = remove_blank\n",
    "        self.__remove_special_character = remove_special_character\n",
    "        self.__refine_blank = refine_blank\n",
    "        self.__refine_english = refine_english\n",
    "        self.__processed_text = self.__make_processed_text()\n",
    "        self.__jamo_list = self.__make_jamo_list()\n",
    "\n",
    "    def __make_processed_text(self):\n",
    "        \"\"\"\n",
    "        옵션에 알맞게 문자열을 정제하여 반환\n",
    "        \"\"\"\n",
    "        processed_text = self.__original_text\n",
    "        if self.__refine_blank:\n",
    "            processed_text = \" \".join(\n",
    "                [word.strip() for word in processed_text.split(\" \") if not len(word.strip()) == 0]\n",
    "            )\n",
    "        if self.__remove_blank:\n",
    "            processed_text = re.sub(r'\\s', '', processed_text)\n",
    "        if self.__remove_special_character:\n",
    "            processed_text = re.sub(r'[-=+,#/\\?:^$.@*\\\"※~&%ㆍ!』\\\\‘|\\(\\)\\[\\]\\<\\>`\\'…》]', '', processed_text)\n",
    "            processed_text = re.sub(r'\\W \\S', '', processed_text)\n",
    "        if self.__refine_english:\n",
    "            processed_text = re.sub(r'[^ㄱ-ㅎㅣ가-힣]+', '', processed_text)\n",
    "        processed_text = re.sub(r'\\s', self.__blank_str, processed_text)\n",
    "        return processed_text\n",
    "\n",
    "    def __make_jamo_list(self):\n",
    "        \"\"\"\n",
    "        전체 자모 리스트 반환\n",
    "        \"\"\"\n",
    "        jamo_list = list()\n",
    "        for syllable in list(self.__processed_text):\n",
    "            if re.match(r'[ㄱ-ㅎㅣ가-힣]+', syllable):\n",
    "                syllable_code = ord(syllable)\n",
    "                chosung_index = int((syllable_code - 44032) / 588)\n",
    "                jungsung_index = int((syllable_code - 44032 - (chosung_index * 588)) / 28)\n",
    "                jongsung_index = int(syllable_code - 44032 - (chosung_index * 588) - (jungsung_index * 28))\n",
    "                jamo_list.append(\n",
    "                    [\n",
    "                        self.__chosung_list[chosung_index],\n",
    "                        self.__jungsung_list[jungsung_index],\n",
    "                        self.__jongsung_list[jongsung_index]\n",
    "                    ]\n",
    "                )\n",
    "            else:\n",
    "                jamo_list.append([syllable, syllable, syllable])\n",
    "        return jamo_list\n",
    "\n",
    "    def get_full_jamo_list(self):\n",
    "        return self.__jamo_list\n",
    "\n",
    "    def get_chosung_list(self):\n",
    "        return [jamo_list[0] for jamo_list in self.__jamo_list]\n",
    "\n",
    "    def get_jungsung_list(self):\n",
    "        return [jamo_list[1] for jamo_list in self.__jamo_list]\n",
    "\n",
    "    def get_jongsung_list(self):\n",
    "        return [jamo_list[2] for jamo_list in self.__jamo_list]\n",
    "\n",
    "\n",
    "if __name__ == \"__main__\":\n",
    "    text = 'facebook의 창시자 마크 저커버그는       \"사람과 사람의 연결이 곧 비즈니스\" 라고 말했다.'\n",
    "    separate_jamo = SeparateJaMo(text, remove_special_character=True)\n",
    "    print(separate_jamo.get_full_jamo_list())\n",
    "    print(separate_jamo.get_chosung_list())\n",
    "    print(separate_jamo.get_jungsung_list())\n",
    "    print(separate_jamo.get_jongsung_list())"
   ]
  },
  {
   "cell_type": "code",
   "execution_count": null,
   "id": "c248f0f1",
   "metadata": {},
   "outputs": [],
   "source": []
  }
 ],
 "metadata": {
  "kernelspec": {
   "display_name": "Python 3",
   "language": "python",
   "name": "python3"
  },
  "language_info": {
   "codemirror_mode": {
    "name": "ipython",
    "version": 3
   },
   "file_extension": ".py",
   "mimetype": "text/x-python",
   "name": "python",
   "nbconvert_exporter": "python",
   "pygments_lexer": "ipython3",
   "version": "3.8.8"
  }
 },
 "nbformat": 4,
 "nbformat_minor": 5
}
